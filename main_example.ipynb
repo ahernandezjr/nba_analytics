{
 "cells": [
  {
   "cell_type": "code",
   "execution_count": null,
   "metadata": {},
   "outputs": [],
   "source": [
    "import src.data_process.dataset_creation as dc\n",
    "\n",
    "dc.collect_data()"
   ]
  },
  {
   "cell_type": "code",
   "execution_count": 2,
   "metadata": {},
   "outputs": [
    {
     "ename": "AttributeError",
     "evalue": "'RootLogger' object has no attribute 'getLogger'",
     "output_type": "error",
     "traceback": [
      "\u001b[1;31m---------------------------------------------------------------------------\u001b[0m",
      "\u001b[1;31mAttributeError\u001b[0m                            Traceback (most recent call last)",
      "Cell \u001b[1;32mIn[2], line 3\u001b[0m\n\u001b[0;32m      1\u001b[0m \u001b[38;5;28;01mimport\u001b[39;00m \u001b[38;5;21;01mpandas\u001b[39;00m \u001b[38;5;28;01mas\u001b[39;00m \u001b[38;5;21;01mpd\u001b[39;00m\n\u001b[1;32m----> 3\u001b[0m \u001b[38;5;28;01mfrom\u001b[39;00m \u001b[38;5;21;01msrc\u001b[39;00m\u001b[38;5;21;01m.\u001b[39;00m\u001b[38;5;21;01mdata_process\u001b[39;00m\u001b[38;5;21;01m.\u001b[39;00m\u001b[38;5;21;01mdataset_creation\u001b[39;00m \u001b[38;5;28;01mimport\u001b[39;00m create_5Year_dataset, print_summary\n\u001b[0;32m      5\u001b[0m \u001b[38;5;66;03m# Load the data\u001b[39;00m\n\u001b[0;32m      6\u001b[0m df \u001b[38;5;241m=\u001b[39m pd\u001b[38;5;241m.\u001b[39mread_csv(\u001b[38;5;124m'\u001b[39m\u001b[38;5;124mdata/nba_player_stats.csv\u001b[39m\u001b[38;5;124m'\u001b[39m)\n",
      "File \u001b[1;32me:\\repos\\nba_pistons_report\\src\\data_process\\dataset_creation.py:21\u001b[0m\n\u001b[0;32m     18\u001b[0m RETRY_DELAY \u001b[38;5;241m=\u001b[39m \u001b[38;5;241m60\u001b[39m\n\u001b[0;32m     19\u001b[0m YEARS_BACK \u001b[38;5;241m=\u001b[39m \u001b[38;5;241m12\u001b[39m\n\u001b[1;32m---> 21\u001b[0m logger \u001b[38;5;241m=\u001b[39m \u001b[43mlogger\u001b[49m\u001b[38;5;241;43m.\u001b[39;49m\u001b[43mgetLogger\u001b[49m(\u001b[38;5;18m__name__\u001b[39m)\n\u001b[0;32m     23\u001b[0m \u001b[38;5;28;01mdef\u001b[39;00m \u001b[38;5;21mcreate_directories\u001b[39m():\n\u001b[0;32m     24\u001b[0m     \u001b[38;5;28;01mfor\u001b[39;00m directory \u001b[38;5;129;01min\u001b[39;00m [DATA_DIR, LOGS_DIR]:\n",
      "\u001b[1;31mAttributeError\u001b[0m: 'RootLogger' object has no attribute 'getLogger'"
     ]
    }
   ],
   "source": [
    "import pandas as pd\n",
    "\n",
    "from src.data_process.dataset_processing import create_5Year_dataset, print_summary\n",
    "\n",
    "# Load the data\n",
    "df = pd.read_csv('data/nba_player_stats.csv')\n",
    "\n",
    "# Create a dataset of players who have played for more than 5 years\n",
    "df_filtered = create_5Year_dataset(df)\n",
    "\n",
    "# Print the summary\n",
    "print_summary(df, df_filtered)"
   ]
  }
 ],
 "metadata": {
  "kernelspec": {
   "display_name": ".venv",
   "language": "python",
   "name": "python3"
  },
  "language_info": {
   "codemirror_mode": {
    "name": "ipython",
    "version": 3
   },
   "file_extension": ".py",
   "mimetype": "text/x-python",
   "name": "python",
   "nbconvert_exporter": "python",
   "pygments_lexer": "ipython3",
   "version": "3.10.11"
  }
 },
 "nbformat": 4,
 "nbformat_minor": 2
}
