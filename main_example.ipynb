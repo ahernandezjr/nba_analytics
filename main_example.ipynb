{
 "cells": [
  {
   "cell_type": "code",
   "execution_count": null,
   "metadata": {},
   "outputs": [],
   "source": [
    "# import src.data_process.dataset_creation as dc\n",
    "\n",
    "# dc.collect_data()"
   ]
  },
  {
   "cell_type": "code",
   "execution_count": 1,
   "metadata": {},
   "outputs": [
    {
     "name": "stdout",
     "output_type": "stream",
     "text": [
      "\u001b[34m2024-05-18 19:41:43,173 - INFO - Rows cleaned: Missing values and duplicates removed.\u001b[0m\n",
      "\u001b[34m2024-05-18 19:41:43,177 - INFO - Columns cleaned: ['is_combined_totals']\u001b[0m\n",
      "\u001b[34m2024-05-18 19:41:43,187 - INFO - Positions cleaned: ['POINT_GUARD' 'SHOOTING_GUARD' 'SMALL_FORWARD' 'CENTER' 'POWER_FORWARD']\u001b[0m\n",
      "\u001b[34m2024-05-18 19:41:43,195 - INFO - Teams cleaned: ['VANCOUVER_GRIZZLIES' 'DENVER_NUGGETS' 'ORLANDO_MAGIC' 'DALLAS_MAVERICKS'\n",
      " 'WASHINGTON_WIZARDS' 'MILWAUKEE_BUCKS' 'SAN_ANTONIO_SPURS'\n",
      " 'BOSTON_CELTICS' 'SACRAMENTO_KINGS' 'HOUSTON_ROCKETS'\n",
      " 'PORTLAND_TRAIL_BLAZERS' 'DETROIT_PISTONS' 'MINNESOTA_TIMBERWOLVES'\n",
      " 'CHICAGO_BULLS' 'SEATTLE_SUPERSONICS' 'PHILADELPHIA_76ERS'\n",
      " 'INDIANA_PACERS' 'UTAH_JAZZ' 'GOLDEN_STATE_WARRIORS' 'PHOENIX_SUNS'\n",
      " 'TORONTO_RAPTORS' 'CLEVELAND_CAVALIERS' 'ATLANTA_HAWKS' 'MIAMI_HEAT'\n",
      " 'LOS_ANGELES_CLIPPERS' 'CHARLOTTE_HORNETS' 'NEW_YORK_KNICKS'\n",
      " 'LOS_ANGELES_LAKERS' 'NEW_JERSEY_NETS' 'MEMPHIS_GRIZZLIES'\n",
      " 'NEW_ORLEANS_HORNETS' 'CHARLOTTE_BOBCATS'\n",
      " 'NEW_ORLEANS_OKLAHOMA_CITY_HORNETS' 'OKLAHOMA_CITY_THUNDER'\n",
      " 'BROOKLYN_NETS' 'NEW_ORLEANS_PELICANS']\u001b[0m\n",
      "\u001b[34m2024-05-18 19:41:43,238 - INFO - Players filtered: Players who have played for more than 5 years.\u001b[0m\n",
      "           slug          name positions  age                   team  \\\n",
      "6594  adamsst01  Steven Adams    CENTER   20  OKLAHOMA_CITY_THUNDER   \n",
      "7142  adamsst01  Steven Adams    CENTER   21  OKLAHOMA_CITY_THUNDER   \n",
      "7717  adamsst01  Steven Adams    CENTER   22  OKLAHOMA_CITY_THUNDER   \n",
      "8246  adamsst01  Steven Adams    CENTER   23  OKLAHOMA_CITY_THUNDER   \n",
      "8787  adamsst01  Steven Adams    CENTER   24  OKLAHOMA_CITY_THUNDER   \n",
      "\n",
      "      games_played  games_started  minutes_played  made_field_goals  \\\n",
      "6594            81             20            1197                93   \n",
      "7142            70             67            1771               217   \n",
      "7717            80             80            2014               261   \n",
      "8246            80             80            2389               374   \n",
      "8787            76             76            2487               448   \n",
      "\n",
      "      attempted_field_goals  ...  turnover_percentage  usage_percentage  \\\n",
      "6594                    185  ...                 22.5              11.7   \n",
      "7142                    399  ...                 16.8              14.3   \n",
      "7717                    426  ...                 14.1              12.6   \n",
      "8246                    655  ...                 16.0              16.2   \n",
      "8787                    712  ...                 13.3              16.7   \n",
      "\n",
      "      offensive_win_shares  defensive_win_shares  win_shares  \\\n",
      "6594                   0.9                   1.9         2.9   \n",
      "7142                   1.9                   2.2         4.1   \n",
      "7717                   4.2                   2.3         6.5   \n",
      "8246                   3.3                   3.1         6.5   \n",
      "8787                   6.7                   3.0         9.7   \n",
      "\n",
      "      win_shares_per_48_minutes  offensive_box_plus_minus  \\\n",
      "6594                      0.114                      -3.1   \n",
      "7142                      0.111                      -1.5   \n",
      "7717                      0.155                       0.0   \n",
      "8246                      0.130                      -0.2   \n",
      "8787                      0.187                       1.7   \n",
      "\n",
      "      defensive_box_plus_minus  box_plus_minus  value_over_replacement_player  \n",
      "6594                       0.9            -2.2                           -0.1  \n",
      "7142                       0.2            -1.3                            0.3  \n",
      "7717                       0.2             0.2                            1.1  \n",
      "8246                       0.0            -0.2                            1.1  \n",
      "8787                      -0.6             1.1                            2.0  \n",
      "\n",
      "[5 rows x 43 columns]\n",
      "Original DataFrame: Entries=13210, Unique Players=2377\n",
      "Filtered DataFrame: Entries=4799, Unique Players=458\n",
      "\u001b[34m2024-05-18 19:41:43,247 - INFO - Summary printed.\u001b[0m\n"
     ]
    }
   ],
   "source": [
    "import pandas as pd\n",
    "\n",
    "from src.data_process.dataset_processing import filter_5Year_dataset, print_summary\n",
    "\n",
    "# Load the data\n",
    "df = pd.read_csv('data/nba_player_stats.csv')\n",
    "\n",
    "# Create a dataset of players who have played for more than 5 years\n",
    "df_filtered = filter_5Year_dataset(df)\n",
    "\n",
    "# Print the summary\n",
    "print_summary(df, df_filtered)\n"
   ]
  },
  {
   "cell_type": "code",
   "execution_count": null,
   "metadata": {},
   "outputs": [],
   "source": []
  }
 ],
 "metadata": {
  "kernelspec": {
   "display_name": ".venv",
   "language": "python",
   "name": "python3"
  },
  "language_info": {
   "codemirror_mode": {
    "name": "ipython",
    "version": 3
   },
   "file_extension": ".py",
   "mimetype": "text/x-python",
   "name": "python",
   "nbconvert_exporter": "python",
   "pygments_lexer": "ipython3",
   "version": "3.10.11"
  }
 },
 "nbformat": 4,
 "nbformat_minor": 2
}
