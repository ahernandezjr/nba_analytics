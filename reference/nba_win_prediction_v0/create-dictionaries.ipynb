{
 "cells": [
  {
   "cell_type": "code",
   "execution_count": 1,
   "metadata": {},
   "outputs": [],
   "source": [
    "import numpy as np\n",
    "import pandas as pd\n",
    "import json\n",
    "\n",
    "from sklearn.preprocessing import OneHotEncoder"
   ]
  },
  {
   "cell_type": "code",
   "execution_count": null,
   "metadata": {},
   "outputs": [],
   "source": [
    "data_dir = \"data/\""
   ]
  },
  {
   "cell_type": "markdown",
   "metadata": {},
   "source": [
    "## Import Players"
   ]
  },
  {
   "cell_type": "code",
   "execution_count": 4,
   "metadata": {},
   "outputs": [],
   "source": [
    "players = pd.read_csv(data_dir + \"new_players.csv\")\n",
    "players = players.drop(labels=\"Unnamed: 0\", axis=1).to_numpy()"
   ]
  },
  {
   "cell_type": "code",
   "execution_count": 5,
   "metadata": {},
   "outputs": [],
   "source": [
    "for player in players:\n",
    "    if player[3] in (\"BRK\", \"NJN\"):\n",
    "        player[3] = \"BKN\"\n",
    "    elif player[3] in (\"CHH\", \"CHO\"):\n",
    "        player[3] = \"CHA\"\n",
    "    elif player[3] in (\"NOH\", \"NOK\"):\n",
    "        player[3] = \"NOP\"\n",
    "    elif player[3] == \"PHO\":\n",
    "        player[3] = \"PHX\"\n",
    "    elif player[3] == \"SEA\":\n",
    "        player[3] = \"OKC\"\n",
    "    elif player[3] == \"SEA\":\n",
    "        player[3] = \"OKC\"\n",
    "    elif player[3] in (\"TOT\", \"VAN\"):\n",
    "        player[3] = \"OTH\"\n",
    "    "
   ]
  },
  {
   "cell_type": "code",
   "execution_count": 6,
   "metadata": {},
   "outputs": [
    {
     "data": {
      "text/plain": [
       "array(['Alan Williams', 'PF', 26, 'BKN', 5, 0, 5.2, 1.6, 2.6, 0.615, 0.0,\n",
       "       0.2, 0.0, 1.6, 2.4, 0.667, 0.615, 0.4, 0.8, 0.5, 0.8, 3.0, 3.8,\n",
       "       0.6, 0.2, 0.0, 0.2, 0.4, 3.6, 18], dtype=object)"
      ]
     },
     "execution_count": 6,
     "metadata": {},
     "output_type": "execute_result"
    }
   ],
   "source": [
    "players[12602]"
   ]
  },
  {
   "cell_type": "code",
   "execution_count": 7,
   "metadata": {},
   "outputs": [],
   "source": [
    "team_to_id = pd.read_csv(data_dir + \"new_details.csv\")[[\"TEAM_ID\", \"TEAM_ABBREVIATION\"]]\n",
    "team_to_id = team_to_id.drop_duplicates()\n",
    "\n",
    "# Replace old names\n",
    "team_to_id[\"TEAM_ABBREVIATION\"] = team_to_id[\"TEAM_ABBREVIATION\"].replace(\"NJN\", \"BKN\")\n",
    "team_to_id[\"TEAM_ABBREVIATION\"] = team_to_id[\"TEAM_ABBREVIATION\"].replace(\"NOH\", \"NOP\")\n",
    "team_to_id[\"TEAM_ABBREVIATION\"] = team_to_id[\"TEAM_ABBREVIATION\"].replace(\"NOK\", \"NOP\")\n",
    "team_to_id[\"TEAM_ABBREVIATION\"] = team_to_id[\"TEAM_ABBREVIATION\"].replace(\"SEA\", \"OKC\")\n",
    "\n",
    "team_to_id.loc[len(team_to_id)] = [1111111111, \"OTH\"]\n",
    "\n",
    "team_to_id = dict(zip(team_to_id.TEAM_ABBREVIATION, team_to_id.TEAM_ID))"
   ]
  },
  {
   "cell_type": "code",
   "execution_count": 8,
   "metadata": {},
   "outputs": [],
   "source": [
    "player_to_id = pd.read_csv(\"player_to_ids.csv\")\n",
    "player_to_id = player_to_id.drop(labels=\"Unnamed: 0\", axis=1)\n",
    "player_to_id = dict(zip(player_to_id.PLAYER_NAME, player_to_id.PLAYER_ID))"
   ]
  },
  {
   "cell_type": "code",
   "execution_count": 9,
   "metadata": {},
   "outputs": [
    {
     "name": "stdout",
     "output_type": "stream",
     "text": [
      "1629641\n"
     ]
    },
    {
     "data": {
      "text/plain": [
       "array(['Mahmoud Abdul-Rauf', 'PG', 28, 'SAC', 31, 0, 17.1, 3.3, 8.8,\n",
       "       0.377, 0.2, 1.0, 0.161, 3.2, 7.8, 0.405, 0.386, 0.5, 0.5, 1.0, 0.2,\n",
       "       1.0, 1.2, 1.9, 0.5, 0.0, 0.6, 1.0, 7.3, 97], dtype=object)"
      ]
     },
     "execution_count": 9,
     "metadata": {},
     "output_type": "execute_result"
    }
   ],
   "source": [
    "# Example\n",
    "print( player_to_id[\"Romeo Langford\"] )\n",
    "players[0]"
   ]
  },
  {
   "cell_type": "code",
   "execution_count": 10,
   "metadata": {},
   "outputs": [],
   "source": [
    "# Numpy array to get player numerical data\n",
    "data_cols = np.r_[2, 4:30]\n",
    "cat_cols  = np.r_[1, 3]"
   ]
  },
  {
   "cell_type": "markdown",
   "metadata": {},
   "source": [
    "## Create one hot encoding for \"Team Abbreviation\" and \"Position\""
   ]
  },
  {
   "cell_type": "code",
   "execution_count": 11,
   "metadata": {},
   "outputs": [],
   "source": [
    "# Create Encoders\n",
    "cat_encoder = OneHotEncoder(handle_unknown='ignore')"
   ]
  },
  {
   "cell_type": "code",
   "execution_count": 12,
   "metadata": {},
   "outputs": [
    {
     "data": {
      "text/html": [
       "<style>#sk-container-id-1 {color: black;background-color: white;}#sk-container-id-1 pre{padding: 0;}#sk-container-id-1 div.sk-toggleable {background-color: white;}#sk-container-id-1 label.sk-toggleable__label {cursor: pointer;display: block;width: 100%;margin-bottom: 0;padding: 0.3em;box-sizing: border-box;text-align: center;}#sk-container-id-1 label.sk-toggleable__label-arrow:before {content: \"▸\";float: left;margin-right: 0.25em;color: #696969;}#sk-container-id-1 label.sk-toggleable__label-arrow:hover:before {color: black;}#sk-container-id-1 div.sk-estimator:hover label.sk-toggleable__label-arrow:before {color: black;}#sk-container-id-1 div.sk-toggleable__content {max-height: 0;max-width: 0;overflow: hidden;text-align: left;background-color: #f0f8ff;}#sk-container-id-1 div.sk-toggleable__content pre {margin: 0.2em;color: black;border-radius: 0.25em;background-color: #f0f8ff;}#sk-container-id-1 input.sk-toggleable__control:checked~div.sk-toggleable__content {max-height: 200px;max-width: 100%;overflow: auto;}#sk-container-id-1 input.sk-toggleable__control:checked~label.sk-toggleable__label-arrow:before {content: \"▾\";}#sk-container-id-1 div.sk-estimator input.sk-toggleable__control:checked~label.sk-toggleable__label {background-color: #d4ebff;}#sk-container-id-1 div.sk-label input.sk-toggleable__control:checked~label.sk-toggleable__label {background-color: #d4ebff;}#sk-container-id-1 input.sk-hidden--visually {border: 0;clip: rect(1px 1px 1px 1px);clip: rect(1px, 1px, 1px, 1px);height: 1px;margin: -1px;overflow: hidden;padding: 0;position: absolute;width: 1px;}#sk-container-id-1 div.sk-estimator {font-family: monospace;background-color: #f0f8ff;border: 1px dotted black;border-radius: 0.25em;box-sizing: border-box;margin-bottom: 0.5em;}#sk-container-id-1 div.sk-estimator:hover {background-color: #d4ebff;}#sk-container-id-1 div.sk-parallel-item::after {content: \"\";width: 100%;border-bottom: 1px solid gray;flex-grow: 1;}#sk-container-id-1 div.sk-label:hover label.sk-toggleable__label {background-color: #d4ebff;}#sk-container-id-1 div.sk-serial::before {content: \"\";position: absolute;border-left: 1px solid gray;box-sizing: border-box;top: 0;bottom: 0;left: 50%;z-index: 0;}#sk-container-id-1 div.sk-serial {display: flex;flex-direction: column;align-items: center;background-color: white;padding-right: 0.2em;padding-left: 0.2em;position: relative;}#sk-container-id-1 div.sk-item {position: relative;z-index: 1;}#sk-container-id-1 div.sk-parallel {display: flex;align-items: stretch;justify-content: center;background-color: white;position: relative;}#sk-container-id-1 div.sk-item::before, #sk-container-id-1 div.sk-parallel-item::before {content: \"\";position: absolute;border-left: 1px solid gray;box-sizing: border-box;top: 0;bottom: 0;left: 50%;z-index: -1;}#sk-container-id-1 div.sk-parallel-item {display: flex;flex-direction: column;z-index: 1;position: relative;background-color: white;}#sk-container-id-1 div.sk-parallel-item:first-child::after {align-self: flex-end;width: 50%;}#sk-container-id-1 div.sk-parallel-item:last-child::after {align-self: flex-start;width: 50%;}#sk-container-id-1 div.sk-parallel-item:only-child::after {width: 0;}#sk-container-id-1 div.sk-dashed-wrapped {border: 1px dashed gray;margin: 0 0.4em 0.5em 0.4em;box-sizing: border-box;padding-bottom: 0.4em;background-color: white;}#sk-container-id-1 div.sk-label label {font-family: monospace;font-weight: bold;display: inline-block;line-height: 1.2em;}#sk-container-id-1 div.sk-label-container {text-align: center;}#sk-container-id-1 div.sk-container {/* jupyter's `normalize.less` sets `[hidden] { display: none; }` but bootstrap.min.css set `[hidden] { display: none !important; }` so we also need the `!important` here to be able to override the default hidden behavior on the sphinx rendered scikit-learn.org. See: https://github.com/scikit-learn/scikit-learn/issues/21755 */display: inline-block !important;position: relative;}#sk-container-id-1 div.sk-text-repr-fallback {display: none;}</style><div id=\"sk-container-id-1\" class=\"sk-top-container\"><div class=\"sk-text-repr-fallback\"><pre>OneHotEncoder(handle_unknown=&#x27;ignore&#x27;)</pre><b>In a Jupyter environment, please rerun this cell to show the HTML representation or trust the notebook. <br />On GitHub, the HTML representation is unable to render, please try loading this page with nbviewer.org.</b></div><div class=\"sk-container\" hidden><div class=\"sk-item\"><div class=\"sk-estimator sk-toggleable\"><input class=\"sk-toggleable__control sk-hidden--visually\" id=\"sk-estimator-id-1\" type=\"checkbox\" checked><label for=\"sk-estimator-id-1\" class=\"sk-toggleable__label sk-toggleable__label-arrow\">OneHotEncoder</label><div class=\"sk-toggleable__content\"><pre>OneHotEncoder(handle_unknown=&#x27;ignore&#x27;)</pre></div></div></div></div></div>"
      ],
      "text/plain": [
       "OneHotEncoder(handle_unknown='ignore')"
      ]
     },
     "execution_count": 12,
     "metadata": {},
     "output_type": "execute_result"
    }
   ],
   "source": [
    "# Obtain all categorical data to pre-process\n",
    "categories = players[:, cat_cols]\n",
    "\n",
    "# Fit encoder to categories\n",
    "cat_encoder.fit( categories )"
   ]
  },
  {
   "cell_type": "markdown",
   "metadata": {},
   "source": [
    "## Create data dictionary\n",
    "#### - {'Year': 'Team': 'PlayerID': Data}"
   ]
  },
  {
   "cell_type": "code",
   "execution_count": 13,
   "metadata": {},
   "outputs": [],
   "source": [
    "player_dict = {}\n",
    "years       = []\n",
    "teams       = []\n",
    "\n",
    "for row in players:\n",
    "    year = row[29] + 1\n",
    "    if year == 100:\n",
    "        year = 0\n",
    "    name = row[0]\n",
    "    team = row[3]\n",
    "\n",
    "    if team not in team_to_id.keys():\n",
    "        continue\n",
    "\n",
    "    if name not in player_to_id.keys():\n",
    "        continue\n",
    "    \n",
    "    team_id = team_to_id[team]\n",
    "    name_id = player_to_id[name]\n",
    "\n",
    "    if year not in years:\n",
    "        player_dict[year] = {}\n",
    "        teams             = []\n",
    "        years.append(year)\n",
    "        \n",
    "    if team_id not in teams:\n",
    "        player_dict[year][team_id] = {}\n",
    "        teams.append(team_id)\n",
    "\n",
    "    # Obtain categorical data\n",
    "    player_categories = row[cat_cols]\n",
    "    player_categories = player_categories[np.newaxis, :]\n",
    "\n",
    "    # Encode categorical data\n",
    "    encoding = cat_encoder.transform( player_categories ).toarray()\n",
    "    encoding = np.squeeze(encoding)\n",
    "\n",
    "    # Obtain raw data\n",
    "    data = row[data_cols]\n",
    "\n",
    "    # Merge category encoding with raw data\n",
    "    new_row = np.concatenate( (data, encoding) )\n",
    "\n",
    "    player_dict[year][team_id][name_id] = new_row.tolist()"
   ]
  },
  {
   "cell_type": "code",
   "execution_count": 14,
   "metadata": {},
   "outputs": [
    {
     "name": "stdout",
     "output_type": "stream",
     "text": [
      "dict_keys([98, 99, 0, 1, 2, 3, 4, 5, 6, 7, 8, 9, 10, 11, 12, 13, 14, 15, 16, 17, 18, 19, 20, 21, 22, 23])\n",
      "dict_keys([1610612761, 1610612763, 1610612748, 1610612751, 1111111111, 1610612740, 1610612762, 1610612749, 1610612739, 1610612754, 1610612747, 1610612753, 1610612752, 1610612745, 1610612764, 1610612756, 1610612758, 1610612765, 1610612766, 1610612741, 1610612737, 1610612743, 1610612755, 1610612759, 1610612746, 1610612760, 1610612750, 1610612742, 1610612744, 1610612757, 1610612738])\n",
      "dict_keys([2546, 2772, 201571, 203145, 202340, 1630602, 201954, 203076, 1629635, 201961, 1629117, 1629659, 2730, 1630643, 2544, 1626169, 1629203, 1630222, 201599, 1630644, 1628370, 1630559, 200765, 202738, 201566])\n",
      "[37, 56, 56, 37.2, 11.4, 21.8, 0.524, 2.9, 8.0, 0.359, 8.6, 13.8, 0.62, 0.59, 4.5, 6.0, 0.756, 1.1, 7.1, 8.2, 6.2, 1.3, 1.1, 3.5, 2.2, 30.3, 21, 1.0, 0.0, 0.0, 0.0, 0.0, 0.0, 0.0, 0.0, 0.0, 0.0, 0.0, 0.0, 0.0, 0.0, 0.0, 0.0, 0.0, 0.0, 0.0, 0.0, 0.0, 0.0, 0.0, 0.0, 0.0, 0.0, 0.0, 0.0, 0.0, 0.0, 1.0, 0.0, 0.0, 0.0, 0.0, 0.0, 0.0, 0.0, 0.0, 0.0, 0.0, 0.0, 0.0, 0.0, 0.0, 0.0, 0.0, 0.0]\n"
     ]
    }
   ],
   "source": [
    "print( player_dict.keys() )\n",
    "print( player_dict[22].keys() )\n",
    "print( player_dict[22][1610612747].keys() )\n",
    "print( player_dict[22][1610612747][2544] )"
   ]
  },
  {
   "cell_type": "markdown",
   "metadata": {},
   "source": [
    "## Export Dictionary"
   ]
  },
  {
   "cell_type": "code",
   "execution_count": 15,
   "metadata": {},
   "outputs": [],
   "source": [
    "with open(data_dir + \"player_dictionary.json\", \"w\") as file:\n",
    "    json.dump(player_dict, file, indent=2)"
   ]
  },
  {
   "cell_type": "code",
   "execution_count": 16,
   "metadata": {},
   "outputs": [],
   "source": [
    "with open(data_dir + \"team_to_id.json\", \"w\") as file:\n",
    "    json.dump(team_to_id, file, indent=2)"
   ]
  },
  {
   "cell_type": "markdown",
   "metadata": {},
   "source": [
    "## Create games dictionary"
   ]
  },
  {
   "cell_type": "code",
   "execution_count": 17,
   "metadata": {},
   "outputs": [],
   "source": [
    "with open(data_dir + \"player_dictionary.json\") as file:\n",
    "    player_dict = json.load( file )\n",
    "\n",
    "with open(data_dir + \"team_to_id.json\") as file:\n",
    "    team_to_id = json.load( file )"
   ]
  },
  {
   "cell_type": "code",
   "execution_count": 228,
   "metadata": {},
   "outputs": [],
   "source": [
    "games_pd   = pd.read_csv(data_dir + \"new_games.csv\")\n",
    "games   = games_pd.to_numpy()[:, 1:]\n",
    "\n",
    "details_pd = pd.read_csv(data_dir + \"new_details.csv\")\n",
    "details = details_pd.to_numpy()[:, 1:]"
   ]
  },
  {
   "cell_type": "code",
   "execution_count": 229,
   "metadata": {},
   "outputs": [],
   "source": [
    "games_dict = {}\n",
    "\n",
    "for row in games:\n",
    "    # Add game_id to dictionary\n",
    "    games_dict[row[0]] = {}\n",
    "\n",
    "    # Add home team to dictionary\n",
    "    games_dict[row[0]][row[1]] = []\n",
    "\n",
    "    # Add away team to dictionary\n",
    "    games_dict[row[0]][row[2]] = []\n",
    "\n",
    "    games_dict[row[0]][\"points_home\"] = row[4]\n",
    "    games_dict[row[0]][\"points_away\"] = row[5]\n",
    "    games_dict[row[0]][\"win_home\"]    = row[6]\n",
    "    games_dict[row[0]][\"season\"]      = row[3] + 1\n",
    "    games_dict[row[0]][\"team_home\"]   = row[1]\n",
    "    games_dict[row[0]][\"team_away\"]   = row[2]\n",
    "\n",
    "for row in details:\n",
    "    if row[1] in games_dict[row[0]].keys():\n",
    "        games_dict[row[0]][row[1]].append(row[4])"
   ]
  },
  {
   "cell_type": "markdown",
   "metadata": {},
   "source": [
    "## Export Games Dictionary"
   ]
  },
  {
   "cell_type": "code",
   "execution_count": 230,
   "metadata": {},
   "outputs": [],
   "source": [
    "with open(data_dir + \"games_dict.json\", \"w\") as file:\n",
    "    json.dump(games_dict, file, indent=2)"
   ]
  },
  {
   "cell_type": "code",
   "execution_count": null,
   "metadata": {},
   "outputs": [],
   "source": []
  }
 ],
 "metadata": {
  "interpreter": {
   "hash": "b89b5cfaba6639976dc87ff2fec6d58faec662063367e2c229c520fe71072417"
  },
  "kernelspec": {
   "display_name": "Python 3.10.5 64-bit",
   "language": "python",
   "name": "python3"
  },
  "language_info": {
   "codemirror_mode": {
    "name": "ipython",
    "version": 3
   },
   "file_extension": ".py",
   "mimetype": "text/x-python",
   "name": "python",
   "nbconvert_exporter": "python",
   "pygments_lexer": "ipython3",
   "version": "3.8.13"
  },
  "orig_nbformat": 4
 },
 "nbformat": 4,
 "nbformat_minor": 2
}
