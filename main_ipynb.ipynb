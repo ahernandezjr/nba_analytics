{
 "cells": [
  {
   "cell_type": "code",
   "execution_count": 5,
   "metadata": {},
   "outputs": [
    {
     "name": "stdout",
     "output_type": "stream",
     "text": [
      "^C\n",
      "Note: you may need to restart the kernel to use updated packages.\n"
     ]
    }
   ],
   "source": [
    "%pip install torch torchvision torchaudio --index-url https://download.pytorch.org/whl/cu118 --upgrade --force-reinstall"
   ]
  },
  {
   "cell_type": "code",
   "execution_count": null,
   "metadata": {},
   "outputs": [],
   "source": [
    "%"
   ]
  },
  {
   "cell_type": "code",
   "execution_count": 2,
   "metadata": {},
   "outputs": [
    {
     "name": "stdout",
     "output_type": "stream",
     "text": [
      "^C\n",
      "Note: you may need to restart the kernel to use updated packages.\n",
      "Note: you may need to restart the kernel to use updated packages.\n"
     ]
    }
   ],
   "source": [
    "# Create a requirements.txt file based off of the repo's dependencies\n",
    "%pip freeze > requirements.txt\n",
    "\n",
    "# Install the dependencies\n",
    "%pip install -r requirements.txt"
   ]
  },
  {
   "cell_type": "code",
   "execution_count": 3,
   "metadata": {},
   "outputs": [
    {
     "name": "stdout",
     "output_type": "stream",
     "text": [
      "2.3.0+cpu\n",
      "False\n"
     ]
    },
    {
     "ename": "AssertionError",
     "evalue": "Torch not compiled with CUDA enabled",
     "output_type": "error",
     "traceback": [
      "\u001b[1;31m---------------------------------------------------------------------------\u001b[0m",
      "\u001b[1;31mAssertionError\u001b[0m                            Traceback (most recent call last)",
      "Cell \u001b[1;32mIn[3], line 4\u001b[0m\n\u001b[0;32m      2\u001b[0m \u001b[38;5;28mprint\u001b[39m(torch\u001b[38;5;241m.\u001b[39m__version__)\n\u001b[0;32m      3\u001b[0m \u001b[38;5;28mprint\u001b[39m(torch\u001b[38;5;241m.\u001b[39mcuda\u001b[38;5;241m.\u001b[39mis_available())\n\u001b[1;32m----> 4\u001b[0m \u001b[38;5;28mprint\u001b[39m(\u001b[43mtorch\u001b[49m\u001b[38;5;241;43m.\u001b[39;49m\u001b[43mcuda\u001b[49m\u001b[38;5;241;43m.\u001b[39;49m\u001b[43mget_device_properties\u001b[49m\u001b[43m(\u001b[49m\u001b[38;5;241;43m0\u001b[39;49m\u001b[43m)\u001b[49m)\n\u001b[0;32m      5\u001b[0m \u001b[38;5;28mprint\u001b[39m(torch\u001b[38;5;241m.\u001b[39mcuda\u001b[38;5;241m.\u001b[39mget_device_name(\u001b[38;5;241m0\u001b[39m))\n\u001b[0;32m      6\u001b[0m \u001b[38;5;28mprint\u001b[39m(torch\u001b[38;5;241m.\u001b[39mcuda\u001b[38;5;241m.\u001b[39mcurrent_device())\n",
      "File \u001b[1;32me:\\repos\\nba_pistons_report\\.venv\\lib\\site-packages\\torch\\cuda\\__init__.py:444\u001b[0m, in \u001b[0;36mget_device_properties\u001b[1;34m(device)\u001b[0m\n\u001b[0;32m    434\u001b[0m \u001b[38;5;28;01mdef\u001b[39;00m \u001b[38;5;21mget_device_properties\u001b[39m(device: _device_t) \u001b[38;5;241m-\u001b[39m\u001b[38;5;241m>\u001b[39m _CudaDeviceProperties:\n\u001b[0;32m    435\u001b[0m \u001b[38;5;250m    \u001b[39m\u001b[38;5;124mr\u001b[39m\u001b[38;5;124;03m\"\"\"Get the properties of a device.\u001b[39;00m\n\u001b[0;32m    436\u001b[0m \n\u001b[0;32m    437\u001b[0m \u001b[38;5;124;03m    Args:\u001b[39;00m\n\u001b[1;32m   (...)\u001b[0m\n\u001b[0;32m    442\u001b[0m \u001b[38;5;124;03m        _CudaDeviceProperties: the properties of the device\u001b[39;00m\n\u001b[0;32m    443\u001b[0m \u001b[38;5;124;03m    \"\"\"\u001b[39;00m\n\u001b[1;32m--> 444\u001b[0m     \u001b[43m_lazy_init\u001b[49m\u001b[43m(\u001b[49m\u001b[43m)\u001b[49m  \u001b[38;5;66;03m# will define _get_device_properties\u001b[39;00m\n\u001b[0;32m    445\u001b[0m     device \u001b[38;5;241m=\u001b[39m _get_device_index(device, optional\u001b[38;5;241m=\u001b[39m\u001b[38;5;28;01mTrue\u001b[39;00m)\n\u001b[0;32m    446\u001b[0m     \u001b[38;5;28;01mif\u001b[39;00m device \u001b[38;5;241m<\u001b[39m \u001b[38;5;241m0\u001b[39m \u001b[38;5;129;01mor\u001b[39;00m device \u001b[38;5;241m>\u001b[39m\u001b[38;5;241m=\u001b[39m device_count():\n",
      "File \u001b[1;32me:\\repos\\nba_pistons_report\\.venv\\lib\\site-packages\\torch\\cuda\\__init__.py:284\u001b[0m, in \u001b[0;36m_lazy_init\u001b[1;34m()\u001b[0m\n\u001b[0;32m    279\u001b[0m     \u001b[38;5;28;01mraise\u001b[39;00m \u001b[38;5;167;01mRuntimeError\u001b[39;00m(\n\u001b[0;32m    280\u001b[0m         \u001b[38;5;124m\"\u001b[39m\u001b[38;5;124mCannot re-initialize CUDA in forked subprocess. To use CUDA with \u001b[39m\u001b[38;5;124m\"\u001b[39m\n\u001b[0;32m    281\u001b[0m         \u001b[38;5;124m\"\u001b[39m\u001b[38;5;124mmultiprocessing, you must use the \u001b[39m\u001b[38;5;124m'\u001b[39m\u001b[38;5;124mspawn\u001b[39m\u001b[38;5;124m'\u001b[39m\u001b[38;5;124m start method\u001b[39m\u001b[38;5;124m\"\u001b[39m\n\u001b[0;32m    282\u001b[0m     )\n\u001b[0;32m    283\u001b[0m \u001b[38;5;28;01mif\u001b[39;00m \u001b[38;5;129;01mnot\u001b[39;00m \u001b[38;5;28mhasattr\u001b[39m(torch\u001b[38;5;241m.\u001b[39m_C, \u001b[38;5;124m\"\u001b[39m\u001b[38;5;124m_cuda_getDeviceCount\u001b[39m\u001b[38;5;124m\"\u001b[39m):\n\u001b[1;32m--> 284\u001b[0m     \u001b[38;5;28;01mraise\u001b[39;00m \u001b[38;5;167;01mAssertionError\u001b[39;00m(\u001b[38;5;124m\"\u001b[39m\u001b[38;5;124mTorch not compiled with CUDA enabled\u001b[39m\u001b[38;5;124m\"\u001b[39m)\n\u001b[0;32m    285\u001b[0m \u001b[38;5;28;01mif\u001b[39;00m _cudart \u001b[38;5;129;01mis\u001b[39;00m \u001b[38;5;28;01mNone\u001b[39;00m:\n\u001b[0;32m    286\u001b[0m     \u001b[38;5;28;01mraise\u001b[39;00m \u001b[38;5;167;01mAssertionError\u001b[39;00m(\n\u001b[0;32m    287\u001b[0m         \u001b[38;5;124m\"\u001b[39m\u001b[38;5;124mlibcudart functions unavailable. It looks like you have a broken build?\u001b[39m\u001b[38;5;124m\"\u001b[39m\n\u001b[0;32m    288\u001b[0m     )\n",
      "\u001b[1;31mAssertionError\u001b[0m: Torch not compiled with CUDA enabled"
     ]
    }
   ],
   "source": [
    "import torch\n",
    "print(torch.__version__)\n",
    "print(torch.cuda.is_available())\n",
    "print(torch.cuda.get_device_properties(0))\n",
    "print(torch.cuda.get_device_name(0))\n",
    "print(torch.cuda.current_device())\n",
    "print(torch.cuda.device_count())"
   ]
  },
  {
   "cell_type": "code",
   "execution_count": null,
   "metadata": {},
   "outputs": [
    {
     "name": "stdout",
     "output_type": "stream",
     "text": [
      "\u001b[34m2024-05-28 00:21:05,841 - INFO - Generating new data for data\\nba_players_basic.csv for year 2001\u001b[0m\n",
      "\u001b[34m2024-05-28 00:21:05,862 - INFO - Generating new data for data\\nba_players_advanced.csv for year 2001\u001b[0m\n",
      "\u001b[34m2024-05-28 00:21:05,891 - INFO - Data saved to data\\nba_players_basic.csv and data\\nba_players_advanced.csv for year 2001\u001b[0m\n",
      "\u001b[34m2024-05-28 00:21:14,378 - INFO - Appending new data to data\\nba_players_basic.csv for year 2002\u001b[0m\n",
      "\u001b[34m2024-05-28 00:21:14,394 - INFO - Appending new data to data\\nba_players_advanced.csv for year 2002\u001b[0m\n",
      "\u001b[34m2024-05-28 00:21:14,454 - INFO - Data saved to data\\nba_players_basic.csv and data\\nba_players_advanced.csv for year 2002\u001b[0m\n",
      "\u001b[34m2024-05-28 00:21:22,234 - INFO - Appending new data to data\\nba_players_basic.csv for year 2003\u001b[0m\n",
      "\u001b[34m2024-05-28 00:21:22,267 - INFO - Appending new data to data\\nba_players_advanced.csv for year 2003\u001b[0m\n",
      "\u001b[34m2024-05-28 00:21:22,305 - INFO - Data saved to data\\nba_players_basic.csv and data\\nba_players_advanced.csv for year 2003\u001b[0m\n",
      "\u001b[34m2024-05-28 00:21:29,837 - INFO - Appending new data to data\\nba_players_basic.csv for year 2004\u001b[0m\n",
      "\u001b[34m2024-05-28 00:21:29,866 - INFO - Appending new data to data\\nba_players_advanced.csv for year 2004\u001b[0m\n",
      "\u001b[34m2024-05-28 00:21:29,912 - INFO - Data saved to data\\nba_players_basic.csv and data\\nba_players_advanced.csv for year 2004\u001b[0m\n",
      "\u001b[34m2024-05-28 00:21:38,411 - INFO - Appending new data to data\\nba_players_basic.csv for year 2005\u001b[0m\n",
      "\u001b[34m2024-05-28 00:21:38,416 - INFO - Appending new data to data\\nba_players_advanced.csv for year 2005\u001b[0m\n",
      "\u001b[34m2024-05-28 00:21:38,428 - INFO - Data saved to data\\nba_players_basic.csv and data\\nba_players_advanced.csv for year 2005\u001b[0m\n",
      "\u001b[34m2024-05-28 00:21:47,037 - INFO - Appending new data to data\\nba_players_basic.csv for year 2006\u001b[0m\n",
      "\u001b[34m2024-05-28 00:21:47,052 - INFO - Appending new data to data\\nba_players_advanced.csv for year 2006\u001b[0m\n",
      "\u001b[34m2024-05-28 00:21:47,105 - INFO - Data saved to data\\nba_players_basic.csv and data\\nba_players_advanced.csv for year 2006\u001b[0m\n",
      "\u001b[34m2024-05-28 00:21:55,846 - INFO - Appending new data to data\\nba_players_basic.csv for year 2007\u001b[0m\n",
      "\u001b[34m2024-05-28 00:21:55,859 - INFO - Appending new data to data\\nba_players_advanced.csv for year 2007\u001b[0m\n",
      "\u001b[34m2024-05-28 00:21:55,922 - INFO - Data saved to data\\nba_players_basic.csv and data\\nba_players_advanced.csv for year 2007\u001b[0m\n",
      "\u001b[34m2024-05-28 00:22:04,486 - INFO - Appending new data to data\\nba_players_basic.csv for year 2008\u001b[0m\n",
      "\u001b[34m2024-05-28 00:22:04,496 - INFO - Appending new data to data\\nba_players_advanced.csv for year 2008\u001b[0m\n",
      "\u001b[34m2024-05-28 00:22:04,552 - INFO - Data saved to data\\nba_players_basic.csv and data\\nba_players_advanced.csv for year 2008\u001b[0m\n",
      "\u001b[34m2024-05-28 00:22:13,836 - INFO - Appending new data to data\\nba_players_basic.csv for year 2009\u001b[0m\n",
      "\u001b[34m2024-05-28 00:22:13,854 - INFO - Appending new data to data\\nba_players_advanced.csv for year 2009\u001b[0m\n",
      "\u001b[34m2024-05-28 00:22:13,915 - INFO - Data saved to data\\nba_players_basic.csv and data\\nba_players_advanced.csv for year 2009\u001b[0m\n",
      "\u001b[34m2024-05-28 00:22:22,565 - INFO - Appending new data to data\\nba_players_basic.csv for year 2010\u001b[0m\n",
      "\u001b[34m2024-05-28 00:22:22,576 - INFO - Appending new data to data\\nba_players_advanced.csv for year 2010\u001b[0m\n",
      "\u001b[34m2024-05-28 00:22:22,600 - INFO - Data saved to data\\nba_players_basic.csv and data\\nba_players_advanced.csv for year 2010\u001b[0m\n",
      "\u001b[34m2024-05-28 00:22:31,682 - INFO - Appending new data to data\\nba_players_basic.csv for year 2011\u001b[0m\n",
      "\u001b[34m2024-05-28 00:22:31,698 - INFO - Appending new data to data\\nba_players_advanced.csv for year 2011\u001b[0m\n",
      "\u001b[34m2024-05-28 00:22:31,768 - INFO - Data saved to data\\nba_players_basic.csv and data\\nba_players_advanced.csv for year 2011\u001b[0m\n",
      "\u001b[34m2024-05-28 00:22:40,001 - INFO - Appending new data to data\\nba_players_basic.csv for year 2012\u001b[0m\n",
      "\u001b[34m2024-05-28 00:22:40,006 - INFO - Appending new data to data\\nba_players_advanced.csv for year 2012\u001b[0m\n",
      "\u001b[34m2024-05-28 00:22:40,037 - INFO - Data saved to data\\nba_players_basic.csv and data\\nba_players_advanced.csv for year 2012\u001b[0m\n",
      "\u001b[34m2024-05-28 00:22:48,378 - INFO - Appending new data to data\\nba_players_basic.csv for year 2013\u001b[0m\n",
      "\u001b[34m2024-05-28 00:22:48,392 - INFO - Appending new data to data\\nba_players_advanced.csv for year 2013\u001b[0m\n",
      "\u001b[34m2024-05-28 00:22:48,424 - INFO - Data saved to data\\nba_players_basic.csv and data\\nba_players_advanced.csv for year 2013\u001b[0m\n",
      "\u001b[34m2024-05-28 00:22:57,767 - INFO - Appending new data to data\\nba_players_basic.csv for year 2014\u001b[0m\n",
      "\u001b[34m2024-05-28 00:22:57,784 - INFO - Appending new data to data\\nba_players_advanced.csv for year 2014\u001b[0m\n",
      "\u001b[34m2024-05-28 00:22:57,842 - INFO - Data saved to data\\nba_players_basic.csv and data\\nba_players_advanced.csv for year 2014\u001b[0m\n",
      "\u001b[34m2024-05-28 00:23:06,941 - INFO - Appending new data to data\\nba_players_basic.csv for year 2015\u001b[0m\n",
      "\u001b[34m2024-05-28 00:23:06,953 - INFO - Appending new data to data\\nba_players_advanced.csv for year 2015\u001b[0m\n",
      "\u001b[34m2024-05-28 00:23:06,999 - INFO - Data saved to data\\nba_players_basic.csv and data\\nba_players_advanced.csv for year 2015\u001b[0m\n",
      "\u001b[34m2024-05-28 00:23:16,329 - INFO - Appending new data to data\\nba_players_basic.csv for year 2016\u001b[0m\n",
      "\u001b[34m2024-05-28 00:23:16,354 - INFO - Appending new data to data\\nba_players_advanced.csv for year 2016\u001b[0m\n",
      "\u001b[34m2024-05-28 00:23:16,415 - INFO - Data saved to data\\nba_players_basic.csv and data\\nba_players_advanced.csv for year 2016\u001b[0m\n",
      "\u001b[34m2024-05-28 00:23:25,320 - INFO - Appending new data to data\\nba_players_basic.csv for year 2017\u001b[0m\n",
      "\u001b[34m2024-05-28 00:23:25,341 - INFO - Appending new data to data\\nba_players_advanced.csv for year 2017\u001b[0m\n",
      "\u001b[34m2024-05-28 00:23:25,385 - INFO - Data saved to data\\nba_players_basic.csv and data\\nba_players_advanced.csv for year 2017\u001b[0m\n",
      "\u001b[34m2024-05-28 00:23:35,044 - INFO - Appending new data to data\\nba_players_basic.csv for year 2018\u001b[0m\n",
      "\u001b[34m2024-05-28 00:23:35,059 - INFO - Appending new data to data\\nba_players_advanced.csv for year 2018\u001b[0m\n",
      "\u001b[34m2024-05-28 00:23:35,123 - INFO - Data saved to data\\nba_players_basic.csv and data\\nba_players_advanced.csv for year 2018\u001b[0m\n",
      "\u001b[34m2024-05-28 00:23:44,680 - INFO - Appending new data to data\\nba_players_basic.csv for year 2019\u001b[0m\n",
      "\u001b[34m2024-05-28 00:23:44,703 - INFO - Appending new data to data\\nba_players_advanced.csv for year 2019\u001b[0m\n",
      "\u001b[34m2024-05-28 00:23:44,768 - INFO - Data saved to data\\nba_players_basic.csv and data\\nba_players_advanced.csv for year 2019\u001b[0m\n",
      "\u001b[34m2024-05-28 00:23:53,971 - INFO - Appending new data to data\\nba_players_basic.csv for year 2020\u001b[0m\n",
      "\u001b[34m2024-05-28 00:23:53,989 - INFO - Appending new data to data\\nba_players_advanced.csv for year 2020\u001b[0m\n",
      "\u001b[34m2024-05-28 00:23:54,021 - INFO - Data saved to data\\nba_players_basic.csv and data\\nba_players_advanced.csv for year 2020\u001b[0m\n",
      "\u001b[34m2024-05-28 00:24:03,378 - INFO - Appending new data to data\\nba_players_basic.csv for year 2021\u001b[0m\n",
      "\u001b[34m2024-05-28 00:24:03,394 - INFO - Appending new data to data\\nba_players_advanced.csv for year 2021\u001b[0m\n",
      "\u001b[34m2024-05-28 00:24:03,431 - INFO - Data saved to data\\nba_players_basic.csv and data\\nba_players_advanced.csv for year 2021\u001b[0m\n",
      "\u001b[34m2024-05-28 00:24:13,485 - INFO - Appending new data to data\\nba_players_basic.csv for year 2022\u001b[0m\n",
      "\u001b[34m2024-05-28 00:24:13,520 - INFO - Appending new data to data\\nba_players_advanced.csv for year 2022\u001b[0m\n",
      "\u001b[34m2024-05-28 00:24:13,575 - INFO - Data saved to data\\nba_players_basic.csv and data\\nba_players_advanced.csv for year 2022\u001b[0m\n",
      "\u001b[34m2024-05-28 00:24:22,472 - INFO - Appending new data to data\\nba_players_basic.csv for year 2023\u001b[0m\n",
      "\u001b[34m2024-05-28 00:24:22,475 - INFO - Appending new data to data\\nba_players_advanced.csv for year 2023\u001b[0m\n",
      "\u001b[34m2024-05-28 00:24:22,513 - INFO - Data saved to data\\nba_players_basic.csv and data\\nba_players_advanced.csv for year 2023\u001b[0m\n",
      "\u001b[34m2024-05-28 00:24:33,265 - INFO - Appending new data to data\\nba_players_basic.csv for year 2024\u001b[0m\n",
      "\u001b[34m2024-05-28 00:24:33,297 - INFO - Appending new data to data\\nba_players_advanced.csv for year 2024\u001b[0m\n",
      "\u001b[34m2024-05-28 00:24:33,361 - INFO - Data saved to data\\nba_players_basic.csv and data\\nba_players_advanced.csv for year 2024\u001b[0m\n",
      "\u001b[34m2024-05-28 00:24:37,665 - INFO - Data collection completed.\u001b[0m\n"
     ]
    }
   ],
   "source": [
    "# import src.data_process.dataset_creation as dc\n",
    "\n",
    "# dc.collect_data()"
   ]
  },
  {
   "cell_type": "code",
   "execution_count": 1,
   "metadata": {},
   "outputs": [
    {
     "name": "stdout",
     "output_type": "stream",
     "text": [
      "           slug  Year  minutes_played  made_field_goals  \\\n",
      "6594  adamsst01  2014            1197                93   \n",
      "7142  adamsst01  2015            1771               217   \n",
      "7717  adamsst01  2016            2014               261   \n",
      "8246  adamsst01  2017            2389               374   \n",
      "8787  adamsst01  2018            2487               448   \n",
      "\n",
      "      attempted_field_goals  attempted_three_point_field_goals  \\\n",
      "6594                    185                                  0   \n",
      "7142                    399                                  2   \n",
      "7717                    426                                  0   \n",
      "8246                    655                                  1   \n",
      "8787                    712                                  2   \n",
      "\n",
      "      attempted_free_throws  defensive_rebounds  turnovers  \\\n",
      "6594                    136                 190         71   \n",
      "7142                    205                 324         99   \n",
      "7717                    196                 314         84   \n",
      "8246                    257                 332        146   \n",
      "8787                    286                 301        128   \n",
      "\n",
      "      player_efficiency_rating  total_rebound_percentage  \\\n",
      "6594                      11.2                      15.6   \n",
      "7142                      14.1                      15.8   \n",
      "7717                      15.5                      14.4   \n",
      "8246                      16.5                      14.2   \n",
      "8787                      20.6                      15.3   \n",
      "\n",
      "      value_over_replacement_player  \n",
      "6594                           -0.1  \n",
      "7142                            0.3  \n",
      "7717                            1.1  \n",
      "8246                            1.1  \n",
      "8787                            2.0  \n",
      "Original DataFrame: Entries=13210, Unique Players=2377\n",
      "Filtered DataFrame: Entries=950, Unique Players=190\n"
     ]
    }
   ],
   "source": [
    "from src.dataset import dataset_processing as dp\n",
    "\n",
    "# Run the processing\n",
    "df, df_filtered = dp.run_processing()\n",
    "\n",
    "# Print the summary\n",
    "dp.print_summary(df, df_filtered)"
   ]
  },
  {
   "cell_type": "code",
   "execution_count": 2,
   "metadata": {},
   "outputs": [
    {
     "name": "stdout",
     "output_type": "stream",
     "text": [
      "\u001b[34m| 2024-06-11 01:55:49,399 - INFO - dataset_torch.print_dataset_example:\n",
      "---| Testing creation of NBAPlayerDataset class...\u001b[0m\n",
      "\u001b[34m| 2024-06-11 01:55:49,400 - INFO - dataset_torch.create_dataset:\n",
      "---| Creating dataset...\u001b[0m\n",
      "\u001b[34m| 2024-06-11 01:55:49,400 - INFO - dataset_torch.create_dataset:\n",
      "---| Loading data from data/nba_player_stats_5years.csv, data/nba_player_stats_5years_tensor_ready.csv, and data/nba_player_stats_5years.json...\u001b[0m\n"
     ]
    },
    {
     "name": "stdout",
     "output_type": "stream",
     "text": [
      "\u001b[34m| 2024-06-11 01:55:49,424 - INFO - dataset_torch.create_dataset:\n",
      "---| Dataset created successfully.\u001b[0m\n",
      "\u001b[34m| 2024-06-11 01:55:49,433 - INFO - dataset_torch.print_dataset_example:\n",
      "---| Player Data:\n",
      "tensor([ 0.4535,  1.2386,  1.1147,  0.4669, -0.9551,  0.9033,  0.6587,  0.6150,\n",
      "         1.1915,  0.9904,  0.7543], dtype=torch.float64)\n",
      "Players Targets:\n",
      "tensor([[-0.2144, -0.3442, -0.8876, -0.9412, -0.9681, -0.1399, -0.0944, -0.2548,\n",
      "         -0.6051,  1.0524, -0.6390],\n",
      "        [-0.0475,  0.3601, -0.1882, -0.3694, -0.9551,  0.3400,  0.8147,  0.1725,\n",
      "         -0.0508,  1.0938, -0.3737],\n",
      "        [ 0.1195,  0.6582,  0.0600, -0.2973, -0.9681,  0.2774,  0.7469, -0.0565,\n",
      "          0.2168,  0.8043,  0.1571],\n",
      "        [ 0.2865,  1.1183,  0.6973,  0.3146, -0.9616,  0.7016,  0.8690,  0.8897,\n",
      "          0.4079,  0.7630,  0.1571],\n",
      "        [ 0.4535,  1.2386,  1.1147,  0.4669, -0.9551,  0.9033,  0.6587,  0.6150,\n",
      "          1.1915,  0.9904,  0.7543]], dtype=torch.float64)\u001b[0m\n",
      "\u001b[34m| 2024-06-11 01:55:49,438 - INFO - dataset_torch.print_dataset_example:\n",
      "---| Player Data:\n",
      "tensor([ 1.1214,  0.4263,  0.8778,  0.5123, -0.9291,  1.2788,  1.5135,  0.9203,\n",
      "         1.4209,  1.4452,  1.2187], dtype=torch.float64)\n",
      "Players Targets:\n",
      "tensor([[ 0.4535, -0.1344, -0.4307, -0.5271, -0.9226,  0.1592,  0.4008, -0.3312,\n",
      "          0.2550,  1.0524, -0.1746],\n",
      "        [ 0.6204,  0.5343,  0.1671, -0.1370, -0.8706,  0.4860,  1.5474,  0.5082,\n",
      "          0.6755,  1.2592,  0.6216],\n",
      "        [ 0.7874,  1.1527,  1.0695,  0.6753, -0.8771,  1.5709,  2.4090,  1.7749,\n",
      "          1.1342,  1.3419,  1.6168],\n",
      "        [ 0.9544,  0.8165,  1.1598,  0.7020, -0.9161,  1.3762,  1.5406,  1.2408,\n",
      "          1.5929,  0.9904,  1.8822],\n",
      "        [ 1.1214,  0.4263,  0.8778,  0.5123, -0.9291,  1.2788,  1.5135,  0.9203,\n",
      "          1.4209,  1.4452,  1.2187]], dtype=torch.float64)\u001b[0m\n",
      "\u001b[34m| 2024-06-11 01:55:49,443 - INFO - dataset_torch.print_dataset_example:\n",
      "---| Player Data:\n",
      "tensor([ 1.2884,  0.6067, -0.0303,  0.0528,  1.4114, -0.2094, -0.1894, -0.2396,\n",
      "        -0.3949, -0.8702,  0.0908], dtype=torch.float64)\n",
      "Players Targets:\n",
      "tensor([[ 0.6204, -1.3025, -1.0342, -0.9599, -0.3245, -0.6684, -1.2478, -0.8348,\n",
      "         -1.3123, -1.5525, -0.9044],\n",
      "        [ 0.7874, -0.9319, -0.7522, -0.7649, -0.0514, -0.7728, -0.8611, -0.8348,\n",
      "         -0.4522, -0.8909, -0.5064],\n",
      "        [ 0.9544, -0.2682, -0.4364, -0.3293,  0.8133, -0.4529, -0.4269, -0.6059,\n",
      "         -0.2993, -0.7875, -0.1746],\n",
      "        [ 1.1214,  0.4018,  0.0261,  0.0848,  1.5609, -0.5711, -0.0944, -0.6822,\n",
      "         -0.3184, -0.8289,  0.1571],\n",
      "        [ 1.2884,  0.6067, -0.0303,  0.0528,  1.4114, -0.2094, -0.1894, -0.2396,\n",
      "         -0.3949, -0.8702,  0.0908]], dtype=torch.float64)\u001b[0m\n",
      "\u001b[34m| 2024-06-11 01:55:49,451 - INFO - dataset_torch.print_dataset_example:\n",
      "---| Player Data:\n",
      "tensor([-1.0493, -0.7246, -0.6394, -0.6767, -0.7925, -0.3277, -0.8271, -0.1633,\n",
      "        -0.2802, -0.7049, -0.2410], dtype=torch.float64)\n",
      "Players Targets:\n",
      "tensor([[-1.7172, -0.2645, -0.3743, -0.4015, -0.7665, -0.0286, -0.4608, -0.1633,\n",
      "          0.0639, -0.0640, -0.1083],\n",
      "        [-1.5502, -0.6129, -0.6845, -0.7034, -0.7470, -0.1538, -0.8475, -0.3159,\n",
      "         -0.2802, -0.7462, -0.5064],\n",
      "        [-1.3833, -0.8252, -0.6620, -0.7435, -0.7535, -0.1538, -0.7796, -0.1938,\n",
      "          0.5035, -0.2707, -0.1746],\n",
      "        [-1.2163, -0.1283, -0.4589, -0.3961, -0.5975,  0.1731, -0.4743,  0.3251,\n",
      "         -0.7007, -0.6635, -0.5064],\n",
      "        [-1.0493, -0.7246, -0.6394, -0.6767, -0.7925, -0.3277, -0.8271, -0.1633,\n",
      "         -0.2802, -0.7049, -0.2410]], dtype=torch.float64)\u001b[0m\n",
      "\u001b[34m| 2024-06-11 01:55:49,464 - INFO - dataset_torch.print_dataset_example:\n",
      "---| Player Data:\n",
      "tensor([ 0.6204, -0.2412, -0.5661, -0.6981, -0.7470, -0.6406, -0.0062, -0.4532,\n",
      "        -0.2993,  0.1014,  0.0244], dtype=torch.float64)\n",
      "Players Targets:\n",
      "tensor([[-0.0475, -1.3737, -1.2373, -1.1977, -0.8966, -0.9884, -0.9289, -1.1858,\n",
      "         -1.1785,  0.1841, -0.5064],\n",
      "        [ 0.1195, -0.2853, -0.6338, -0.6473, -0.7275, -0.5085,  0.1023, -0.4380,\n",
      "         -0.2802,  0.1428,  0.1571],\n",
      "        [ 0.2865, -0.5614, -0.8876, -0.8771, -0.7080, -0.6893, -0.1962, -0.7432,\n",
      "         -0.3566,  0.2048,  0.0908],\n",
      "        [ 0.4535,  0.6140, -0.1092, -0.2652, -0.5975, -0.0704,  0.7333,  0.0962,\n",
      "          0.2932,  0.1221,  1.0197],\n",
      "        [ 0.6204, -0.2412, -0.5661, -0.6981, -0.7470, -0.6406, -0.0062, -0.4532,\n",
      "         -0.2993,  0.1014,  0.0244]], dtype=torch.float64)\u001b[0m\n",
      "\u001b[34m| 2024-06-11 01:55:49,468 - INFO - dataset_torch.print_dataset_example:\n",
      "---| Player Data:\n",
      "tensor([ 0.4535,  1.5686,  2.7728,  2.3105, -0.0579,  3.3722,  2.6669,  2.0649,\n",
      "         2.4721,  1.1351,  3.2092], dtype=torch.float64)\n",
      "Players Targets:\n",
      "tensor([[-0.2144,  0.5147, -0.4364, -0.3186, -0.2009,  0.3191,  0.3873,  0.5235,\n",
      "         -0.6816, -0.0640, -0.7054],\n",
      "        [-0.0475,  1.3048,  0.7480,  0.6486, -0.6820,  1.3275,  1.6153,  1.3018,\n",
      "          0.0830,  0.3495,  0.2235],\n",
      "        [ 0.1195,  1.6508,  1.4813,  1.2712, -0.2594,  1.7587,  2.0020,  1.8359,\n",
      "          0.8475,  0.3909,  1.3514],\n",
      "        [ 0.2865,  1.6778,  2.2878,  1.9284,  0.2021,  3.1705,  2.4023,  2.2327,\n",
      "          2.2428,  0.7837,  3.8727],\n",
      "        [ 0.4535,  1.5686,  2.7728,  2.3105, -0.0579,  3.3722,  2.6669,  2.0649,\n",
      "          2.4721,  1.1351,  3.2092]], dtype=torch.float64)\u001b[0m\n"
     ]
    }
   ],
   "source": [
    "from src.dataset import dataset_torch as dt\n",
    "\n",
    "# dataset = dt.create_dataset()\n",
    "\n",
    "dt.print_dataset_example()"
   ]
  },
  {
   "cell_type": "code",
   "execution_count": 2,
   "metadata": {},
   "outputs": [
    {
     "name": "stdout",
     "output_type": "stream",
     "text": [
      "\u001b[34m| 2024-06-11 01:57:33,365 - INFO - train_models.run_model:\n",
      "---| Running nn model on cpu...\u001b[0m\n",
      "\u001b[34m| 2024-06-11 01:57:33,366 - INFO - train_models.run_model:\n",
      "---| Training model (starting loop)...\u001b[0m\n"
     ]
    },
    {
     "name": "stderr",
     "output_type": "stream",
     "text": [
      "Epoch: 500/500, Batch: 6/6: 100%|██████████| 500/500 [01:41<00:00,  4.93it/s, Loss=0.652]"
     ]
    },
    {
     "name": "stdout",
     "output_type": "stream",
     "text": [
      "\u001b[34m| 2024-06-11 01:59:14,831 - INFO - train_models.run_model:\n",
      "---| Evaluating model...\u001b[0m\n"
     ]
    },
    {
     "name": "stderr",
     "output_type": "stream",
     "text": [
      "\n",
      "Batch: 6/6: 100%|██████████| 6/6 [00:01<00:00,  5.46it/s, Loss=0.608]"
     ]
    },
    {
     "name": "stdout",
     "output_type": "stream",
     "text": [
      "\u001b[34m| 2024-06-11 01:59:15,932 - INFO - train_models.run_model:\n",
      "---| Saving model at data/nn.pth.\u001b[0m\n",
      "\u001b[34m| 2024-06-11 01:59:15,934 - INFO - train_models.run_model:\n",
      "---| Confirmation: Model saved at data/nn.pth.\u001b[0m\n"
     ]
    },
    {
     "name": "stderr",
     "output_type": "stream",
     "text": [
      "\n"
     ]
    }
   ],
   "source": [
    "from src.machine_learning import train_models as rm\n",
    "\n",
    "# Use:\n",
    "   # 1. 'nn_lstm' for the LSTM model \n",
    "   # 2. 'custom_lstm' for the custom LSTM model\n",
    "   # 3. 'nn' for the neural network model\n",
    "# model = rm.run_model('nn_lstm', 50)\n",
    "# model = rm.run_model('custom_lstm', 200)\n",
    "model = rm.run_model('nn', 500)"
   ]
  },
  {
   "cell_type": "code",
   "execution_count": 4,
   "metadata": {},
   "outputs": [
    {
     "name": "stdout",
     "output_type": "stream",
     "text": [
      "\u001b[34m| 2024-06-11 01:56:47,577 - INFO - use_models.use_model:\n",
      "---| Found .pth files: ['nn.pth', 'nn_lstm.pth']\u001b[0m\n",
      "\u001b[34m| 2024-06-11 01:56:47,578 - INFO - use_models.use_model:\n",
      "---| Using argument file index 0.\u001b[0m\n",
      "\u001b[34m| 2024-06-11 01:56:47,578 - INFO - use_models.load_model:\n",
      "---| Loading nn.pth and creating model...\u001b[0m\n",
      "\u001b[34m| 2024-06-11 01:56:47,588 - INFO - use_models.load_model:\n",
      "---| Loaded model: CustomNN(\n",
      "  (fc1): Linear(in_features=11, out_features=39, bias=True)\n",
      "  (relu): ReLU()\n",
      "  (fc2): Linear(in_features=39, out_features=11, bias=True)\n",
      ")\u001b[0m\n",
      "\u001b[34m| 2024-06-11 01:56:47,589 - INFO - dataset_torch.get_dataset_example:\n",
      "---| Getting example from dataset...\u001b[0m\n",
      "\u001b[34m| 2024-06-11 01:56:47,590 - INFO - dataset_torch.create_dataset:\n",
      "---| Creating dataset...\u001b[0m\n",
      "\u001b[34m| 2024-06-11 01:56:47,591 - INFO - dataset_torch.create_dataset:\n",
      "---| Loading data from data/nba_player_stats_5years.csv, data/nba_player_stats_5years_tensor_ready.csv, and data/nba_player_stats_5years.json...\u001b[0m\n",
      "\u001b[34m| 2024-06-11 01:56:47,600 - INFO - dataset_torch.create_dataset:\n",
      "---| Dataset created successfully.\u001b[0m\n",
      "\u001b[34m| 2024-06-11 01:56:47,604 - INFO - use_models.use_model:\n",
      "---| Model Results:\u001b[0m\n",
      "\u001b[34m| 2024-06-11 01:56:47,605 - INFO - use_models.use_model:\n",
      "---| Inputs: tensor([[-0.2144, -0.3442, -0.8876, -0.9412, -0.9681, -0.1399, -0.0944, -0.2548,\n",
      "         -0.6051,  1.0524, -0.6390],\n",
      "        [-0.0475,  0.3601, -0.1882, -0.3694, -0.9551,  0.3400,  0.8147,  0.1725,\n",
      "         -0.0508,  1.0938, -0.3737],\n",
      "        [ 0.1195,  0.6582,  0.0600, -0.2973, -0.9681,  0.2774,  0.7469, -0.0565,\n",
      "          0.2168,  0.8043,  0.1571],\n",
      "        [ 0.2865,  1.1183,  0.6973,  0.3146, -0.9616,  0.7016,  0.8690,  0.8897,\n",
      "          0.4079,  0.7630,  0.1571],\n",
      "        [ 0.4535,  1.2386,  1.1147,  0.4669, -0.9551,  0.9033,  0.6587,  0.6150,\n",
      "          1.1915,  0.9904,  0.7543]])\u001b[0m\n",
      "\u001b[34m| 2024-06-11 01:56:47,606 - INFO - use_models.use_model:\n",
      "---| Outputs: tensor([ 0.1456, -0.0940,  0.1402, -0.0387, -0.0668, -0.0061, -0.0416,  0.0150,\n",
      "         0.0285,  0.0967,  0.0838], grad_fn=<SelectBackward0>)\u001b[0m\n",
      "\u001b[34m| 2024-06-11 01:56:47,608 - INFO - use_models.use_model:\n",
      "---| Targets: tensor([ 0.4535,  1.2386,  1.1147,  0.4669, -0.9551,  0.9033,  0.6587,  0.6150,\n",
      "         1.1915,  0.9904,  0.7543])\u001b[0m\n"
     ]
    }
   ],
   "source": [
    "from src.machine_learning import use_models as um\n",
    "\n",
    "um.use_model(0)"
   ]
  }
 ],
 "metadata": {
  "kernelspec": {
   "display_name": ".venv",
   "language": "python",
   "name": "python3"
  },
  "language_info": {
   "codemirror_mode": {
    "name": "ipython",
    "version": 3
   },
   "file_extension": ".py",
   "mimetype": "text/x-python",
   "name": "python",
   "nbconvert_exporter": "python",
   "pygments_lexer": "ipython3",
   "version": "3.10.11"
  }
 },
 "nbformat": 4,
 "nbformat_minor": 2
}
